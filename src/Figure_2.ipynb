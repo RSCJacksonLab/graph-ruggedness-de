{
 "cells": [
  {
   "cell_type": "code",
   "execution_count": null,
   "metadata": {},
   "outputs": [],
   "source": [
    "import graph_fourier_transform\n",
    "import graph_ruggedness_de\n",
    "import matplotlib.pyplot as plt\n",
    "import pandas as pd\n",
    "from sklearn.preprocessing import MinMaxScaler\n",
    "import numpy as np\n",
    "import networkx as nx\n",
    "import os\n",
    "import matplotlib.ticker as ticker"
   ]
  },
  {
   "attachments": {},
   "cell_type": "markdown",
   "metadata": {},
   "source": [
    "### GFT and DE for hamming and KNN graphs\n",
    "The below cells computes the Dirichlet energy and graph Fourier Transform over hamming and KNN graphs. "
   ]
  },
  {
   "cell_type": "code",
   "execution_count": null,
   "metadata": {},
   "outputs": [],
   "source": [
    "def remove_negative_sign(x, pos):\n",
    "    return str(x).replace(\"-\", \"\")\n",
    "\n",
    "def format_yticks(x, pos):\n",
    "    return f\"{abs(x):.1f}\"\n",
    "\n",
    "dtype_spec = {'Genotype': str}\n",
    "df = pd.read_csv('../data_files/DHFR_ic50_c57.csv', dtype=dtype_spec)\n",
    "seq_ls = df['Genotype'].tolist()\n",
    "values = df['F'].tolist()\n",
    "scaler = MinMaxScaler()\n",
    "values = [val[0] for val in (scaler.fit_transform(np.array(values).reshape(-1,1)))]\n",
    "\n",
    "G_h = graph_ruggedness_de.build_ohe_graph(seq_ls=seq_ls,\n",
    "                                        values=values,\n",
    "                                        hamming_edges=True)\n",
    "de_h = graph_ruggedness_de.compute_dirichlet_energy(G=G_h)\n",
    "hamming_norm_gft_coefficients = graph_fourier_transform.graph_fourier_transform(G=G_h)\n",
    "\n",
    "G_k = graph_ruggedness_de.build_ohe_graph(seq_ls=seq_ls,\n",
    "                                        values=values,\n",
    "                                        hamming_edges=False)\n",
    "de_k = graph_ruggedness_de.compute_dirichlet_energy(G=G_k)\n",
    "knn_norm_gft_coefficients = graph_fourier_transform.graph_fourier_transform(G=G_k)\n",
    "\n",
    "import matplotlib.pyplot as plt\n",
    "import matplotlib.gridspec as gridspec\n",
    "\n",
    "fig = plt.figure(figsize=(4, 2))\n",
    "\n",
    "gs = gridspec.GridSpec(1, 2, width_ratios=[30, 1])\n",
    "\n",
    "ax1 = plt.subplot(gs[0])\n",
    "ax1.bar(x=list(range(len(values))), height=hamming_norm_gft_coefficients, edgecolor='black')\n",
    "ax1.bar(x=list(range(len(values))), height=-knn_norm_gft_coefficients, edgecolor='black')\n",
    "ax1.set_ylim(-(0.1*max(hamming_norm_gft_coefficients) + max(hamming_norm_gft_coefficients)),\n",
    "             (0.1*max(hamming_norm_gft_coefficients) + max(hamming_norm_gft_coefficients)))\n",
    "ax1.set_xticks([])\n",
    "ax1.set_ylabel('Magnitude')\n",
    "\n",
    "ax2 = plt.subplot(gs[1])\n",
    "ax2.bar(x=[1], height=de_h, edgecolor='black')\n",
    "ax2.bar(x=[1], height=-de_k, edgecolor='black')\n",
    "ax2.set_xticks([])\n",
    "ax2.set_ylabel('Dirichlet energy')\n",
    "ax2.set_ylim(-(0.25*de_k + de_k),\n",
    "             (0.25*de_k + de_k))\n",
    "\n",
    "ax1.yaxis.set_major_formatter(ticker.FuncFormatter(format_yticks))\n",
    "ax2.yaxis.set_major_formatter(ticker.FuncFormatter(format_yticks))\n",
    "\n",
    "plt.tight_layout()\n",
    "plt.savefig('figures/Figure_2/DHFR_ic50_c57.pdf')\n",
    "plt.show()\n",
    "\n",
    "fig = plt.figure(figsize=(2, 2))\n",
    "values = [node[1]['value'] for node in G_k.nodes(data=True)]\n",
    "viridis = plt.cm.get_cmap('viridis', 10)\n",
    "node_colors = [viridis((value - min(values)) / (max(values) - min(values))) for value in values]\n",
    "nx.draw(G_k, node_color=node_colors, with_labels=False, edgecolors='black', node_size=100, width=0.75, edge_color='grey')\n",
    "plt.savefig('figures/Figure_2/DHFR_ic50_c57_knn.pdf')\n",
    "plt.show()\n",
    "\n",
    "fig = plt.figure(figsize=(2, 2))\n",
    "values = [node[1]['value'] for node in G_h.nodes(data=True)]\n",
    "viridis = plt.cm.get_cmap('viridis', 10)\n",
    "node_colors = [viridis((value - min(values)) / (max(values) - min(values))) for value in values]\n",
    "nx.draw(G_h, node_color=node_colors, with_labels=False, edgecolors='black', node_size=100, width=0.75, edge_color='grey')\n",
    "plt.savefig('figures/Figure_2/DHFR_ic50_c57_ham.pdf')\n",
    "plt.show()"
   ]
  },
  {
   "attachments": {},
   "cell_type": "markdown",
   "metadata": {},
   "source": [
    "### Fitness distribution\n",
    "The below cell computes and plots the distribution of fitnesses over the graph. "
   ]
  },
  {
   "cell_type": "code",
   "execution_count": null,
   "metadata": {},
   "outputs": [],
   "source": [
    "df = pd.read_csv('../data_files/DHFR_ic50_c57.csv', dtype=dtype_spec)\n",
    "seq_ls = df['Genotype'].tolist()\n",
    "values = df['F'].tolist()\n",
    "scaler = MinMaxScaler()\n",
    "values = [val[0] for val in (scaler.fit_transform(np.array(values).reshape(-1,1)))]\n",
    "\n",
    "fig = plt.figure(figsize=(1.5, 1.0))\n",
    "plt.hist(values, bins=10, color='grey')\n",
    "#plt.xlabel('Fitness')\n",
    "plt.tight_layout()\n",
    "plt.savefig('figures/Figure_2/DHFR_ic50_c57_dist.pdf')"
   ]
  },
  {
   "cell_type": "code",
   "execution_count": null,
   "metadata": {},
   "outputs": [],
   "source": []
  }
 ],
 "metadata": {
  "kernelspec": {
   "display_name": "torch",
   "language": "python",
   "name": "python3"
  },
  "language_info": {
   "codemirror_mode": {
    "name": "ipython",
    "version": 3
   },
   "file_extension": ".py",
   "mimetype": "text/x-python",
   "name": "python",
   "nbconvert_exporter": "python",
   "pygments_lexer": "ipython3",
   "version": "3.11.7"
  },
  "orig_nbformat": 4
 },
 "nbformat": 4,
 "nbformat_minor": 2
}
